{
 "cells": [
  {
   "cell_type": "code",
   "execution_count": null,
   "id": "4810c04e",
   "metadata": {},
   "outputs": [],
   "source": [
    "1. What is a lambda function in Python, and how does it differ from a regular function?\n",
    "2. Can a lambda function in Python have multiple arguments? If yes, how can you define and use\n",
    "them?\n",
    "3. How are lambda functions typically used in Python? Provide an example use case.\n",
    "4. What are the advantages and limitations of lambda functions compared to regular functions in\n",
    "Python?\n",
    "5. Are lambda functions in Python able to access variables defined outside of their own scope?\n",
    "Explain with an example.\n",
    "6. Write a lambda function to calculate the square of a given number.\n",
    "7. Create a lambda function to find the maximum value in a list of integers.\n",
    "8. Implement a lambda function to filter out all the even numbers from a list of integers.\n",
    "9. Write a lambda function to sort a list of strings in ascending order based on the length of each\n",
    "string.\n",
    "10. Create a lambda function that takes two lists as input and returns a new list containing the\n",
    "common elements between the two lists.\n",
    "11. Write a recursive function to calculate the factorial of a given positive integer.\n",
    "12. Implement a recursive function to compute the nth Fibonacci number.\n",
    "13. Create a recursive function to find the sum of all the elements in a given list.\n",
    "14. Write a recursive function to determine whether a given string is a palindrome.\n",
    "15. Implement a recursive function to find the greatest common divisor (GCD) of two positive integers."
   ]
  },
  {
   "cell_type": "markdown",
   "id": "20710a25",
   "metadata": {},
   "source": [
    "# Question 1 : What is a lambda function in Python, and how does it differ from a regular function?"
   ]
  },
  {
   "cell_type": "markdown",
   "id": "b9cf9994",
   "metadata": {},
   "source": [
    "Answer : \n",
    "In Python, a lambda function is a small, anonymous function defined using the lambda keyword. Lambda functions are also known as anonymous functions because they don't have a name like regular functions defined using the def keyword. The syntax for a lambda function is: lambda arguments: expression\n",
    "Lambda functions are often used for short, simple operations where a full function definition would be overkill. They are particularly useful in situations where you need a quick function for a short period, such as when passing a function as an argument to a higher-order function like map(), filter(), or sorted()."
   ]
  },
  {
   "cell_type": "markdown",
   "id": "f56a8539",
   "metadata": {},
   "source": [
    "# Question 2 : Can a lambda function in Python have multiple arguments? If yes, how can you define and use them?\n"
   ]
  },
  {
   "cell_type": "markdown",
   "id": "dd21a641",
   "metadata": {},
   "source": [
    "Answer : \n",
    "Yes, a lambda function in Python can have multiple arguments. The syntax for a lambda function with multiple arguments is:\n",
    "add = lambda x,y : x+y\n",
    "print(add(4,5))"
   ]
  },
  {
   "cell_type": "markdown",
   "id": "3a2fa26b",
   "metadata": {},
   "source": [
    "# Question 3 : How are lambda functions typically used in Python? Provide an example use case."
   ]
  },
  {
   "cell_type": "markdown",
   "id": "1510666b",
   "metadata": {},
   "source": [
    "Answer : \n",
    "Lambda functions in Python are typically used for short-lived operations, especially in situations where a small, anonymous function is needed. They are commonly employed in functional programming constructs like map(), filter(), and sorted(), where a function is required as an argument.\n",
    " Here us a example:\n",
    "\n",
    "numbers = [1, 2, 3, 4, 5]\n",
    "squared_numbers = list(map(lambda x: x**2, numbers))\n",
    "\n",
    "print(squared_numbers)\n",
    "#Output: [1, 4, 9, 16, 25]\n"
   ]
  },
  {
   "cell_type": "markdown",
   "id": "8dd3a80b",
   "metadata": {},
   "source": [
    "# Question 4 : What are the advantages and limitations of lambda functions compared to regular functions in Python?\n"
   ]
  },
  {
   "cell_type": "markdown",
   "id": "aee1a4b7",
   "metadata": {},
   "source": [
    "Answer : \n",
    "Advantages of Lambda Functions:\n",
    "\n",
    "1 Conciseness: Lambda functions have a more concise syntax, making them suitable for short, simple operations.\n",
    "\n",
    "2 Readability: In some cases, using a lambda function can enhance readability, especially when the function is used as an     argument in a higher-order function.\n",
    "\n",
    "3 Anonymous: Lambda functions are anonymous, which can be beneficial when the function is short-lived and doesn't need a     dedicated name.\n",
    "\n",
    "4 Functional Programming: Lambda functions align well with functional programming constructs like map(), filter(), and       sorted(), where a function is passed as an argument.\n",
    "\n",
    "Limitations of Lambda Functions:\n",
    "\n",
    "1 Limited Body: Lambda functions can only have a single expression in their body, restricting their use for more complex     operations.\n",
    "\n",
    "2 No Statements: Lambda functions cannot contain statements, only expressions. This limitation excludes things like           assignments and print statements.\n",
    "\n",
    "3 Limited Readability for Complex Logic: For more complex logic or functions with multiple statements, regular functions     provide better readability and maintainability.\n",
    "\n",
    "4 Limited Scope: Lambda functions are often used within a limited scope, and their usage can be less intuitive for more       extensive codebases."
   ]
  },
  {
   "cell_type": "markdown",
   "id": "7c061051",
   "metadata": {},
   "source": [
    "# Question 5 : Are lambda functions in Python able to access variables defined outside of their own scope? Explain with an example.\n"
   ]
  },
  {
   "cell_type": "markdown",
   "id": "1f7e84db",
   "metadata": {},
   "source": [
    "Answer : \n",
    "Yes, lambda functions in Python can access variables defined outside of their own scope. This is possible through a mechanism called \"closures.\" A closure allows a function (in this case, a lambda function) to capture and remember the values in the enclosing lexical scope even if they are not present in memory.\n",
    "\n",
    "Example:\n",
    "\n",
    "\n",
    "x = 10\n",
    "\n",
    "\n",
    "lambda_function = lambda y: x + y\n",
    "\n",
    "\n",
    "result = lambda_function(5)\n",
    "\n",
    "print(result)  # Output: 15\n"
   ]
  },
  {
   "cell_type": "markdown",
   "id": "7fa4760b",
   "metadata": {},
   "source": [
    "# Question 6 : Write a lambda function to calculate the square of a given number."
   ]
  },
  {
   "cell_type": "code",
   "execution_count": 2,
   "id": "1b8eb041",
   "metadata": {},
   "outputs": [
    {
     "name": "stdout",
     "output_type": "stream",
     "text": [
      "9\n"
     ]
    }
   ],
   "source": [
    "square= lambda x : x**2\n",
    "print(square(3))"
   ]
  },
  {
   "cell_type": "markdown",
   "id": "c9309173",
   "metadata": {},
   "source": [
    "# Question 7 : Create a lambda function to find the maximum value in a list of integers."
   ]
  },
  {
   "cell_type": "code",
   "execution_count": 6,
   "id": "46e76b6a",
   "metadata": {},
   "outputs": [
    {
     "name": "stdout",
     "output_type": "stream",
     "text": [
      "5\n"
     ]
    }
   ],
   "source": [
    "my_l=[5,4,3,2,1]\n",
    "largest_num=my_l[0]\n",
    "for num in my_l :\n",
    "    if num > largest_num:\n",
    "        largest_num=num\n",
    "print(largest_num)\n",
    "       "
   ]
  },
  {
   "cell_type": "markdown",
   "id": "e40edb96",
   "metadata": {},
   "source": [
    "# Question 8 : Implement a lambda function to filter out all the even numbers from a list of integers."
   ]
  },
  {
   "cell_type": "code",
   "execution_count": 9,
   "id": "9623babe",
   "metadata": {},
   "outputs": [
    {
     "name": "stdout",
     "output_type": "stream",
     "text": [
      "[2, 4, 6, 8]\n"
     ]
    }
   ],
   "source": [
    "my_list=[1,2,3,4,5,6,7,8]\n",
    "filter_even=lambda x : x %2 ==0\n",
    "even_list=[num for num in my_list if filter_even(num)]\n",
    "print(even_list)"
   ]
  },
  {
   "cell_type": "markdown",
   "id": "cd595ebe",
   "metadata": {},
   "source": [
    "# Question 9 : Write a lambda function to sort a list of strings in ascending order based on the length of each string.\n"
   ]
  },
  {
   "cell_type": "code",
   "execution_count": 10,
   "id": "6370b35a",
   "metadata": {},
   "outputs": [
    {
     "name": "stdout",
     "output_type": "stream",
     "text": [
      "Sorted strings by length: ['kiwi', 'apple', 'grape', 'banana', 'orange']\n"
     ]
    }
   ],
   "source": [
    "\n",
    "my_strings = [\"apple\", \"banana\", \"kiwi\", \"orange\", \"grape\"]\n",
    "sorted_strings = sorted(my_strings, key=lambda x: len(x))\n",
    "print(\"Sorted strings by length:\", sorted_strings)\n"
   ]
  },
  {
   "cell_type": "markdown",
   "id": "073958c7",
   "metadata": {},
   "source": [
    "# Question 10 : Create a lambda function that takes two lists as input and returns a new list containing the common elements between the two lists.\n"
   ]
  },
  {
   "cell_type": "code",
   "execution_count": 11,
   "id": "aa4d4b24",
   "metadata": {},
   "outputs": [
    {
     "name": "stdout",
     "output_type": "stream",
     "text": [
      "Common elements: [3, 4, 5]\n"
     ]
    }
   ],
   "source": [
    "\n",
    "list1 = [1, 2, 3, 4, 5]\n",
    "list2 = [3, 4, 5, 6, 7]\n",
    "find_common = lambda x, y: list(filter(lambda element: element in y, x))\n",
    "common_elements = find_common(list1, list2)\n",
    "print(\"Common elements:\", common_elements)\n",
    "\n"
   ]
  },
  {
   "cell_type": "markdown",
   "id": "ae6db69f",
   "metadata": {},
   "source": [
    "# Question 11 : Write a recursive function to calculate the factorial of a given positive integer."
   ]
  },
  {
   "cell_type": "code",
   "execution_count": 12,
   "id": "4d11a220",
   "metadata": {},
   "outputs": [
    {
     "name": "stdout",
     "output_type": "stream",
     "text": [
      "Factorial of 5 is: 120\n"
     ]
    }
   ],
   "source": [
    "def factorial(n):\n",
    "   \n",
    "    if n == 0:\n",
    "        return 1\n",
    " \n",
    "    else:\n",
    "        return n * factorial(n - 1)\n",
    "    \n",
    "result = factorial(5)\n",
    "print(\"Factorial of 5 is:\", result)\n"
   ]
  },
  {
   "cell_type": "markdown",
   "id": "e0824691",
   "metadata": {},
   "source": [
    "# Question 12 : Implement a recursive function to compute the nth Fibonacci number."
   ]
  },
  {
   "cell_type": "code",
   "execution_count": 13,
   "id": "359822ab",
   "metadata": {},
   "outputs": [
    {
     "name": "stdout",
     "output_type": "stream",
     "text": [
      "The 6th Fibonacci number is: 8\n"
     ]
    }
   ],
   "source": [
    "def fibonacci(n):\n",
    "    if n == 0:\n",
    "        return 0\n",
    "    elif n == 1:\n",
    "        return 1\n",
    "    else:\n",
    "        return fibonacci(n - 1) + fibonacci(n - 2)\n",
    "result = fibonacci(6)\n",
    "print(\"The 6th Fibonacci number is:\", result)\n"
   ]
  },
  {
   "cell_type": "markdown",
   "id": "149ecbe6",
   "metadata": {},
   "source": [
    "# Question 13 : Create a recursive function to find the sum of all the elements in a given list."
   ]
  },
  {
   "cell_type": "code",
   "execution_count": 16,
   "id": "1a759816",
   "metadata": {},
   "outputs": [
    {
     "name": "stdout",
     "output_type": "stream",
     "text": [
      "The sum of the elements in the list is: 15\n"
     ]
    }
   ],
   "source": [
    "def recursive_sum(lst):\n",
    "    if not lst:\n",
    "        return 0\n",
    "    else:\n",
    "        return lst[0] + recursive_sum(lst[1:])\n",
    "\n",
    "my_list = [1, 2, 3, 4, 5]\n",
    "result = recursive_sum(my_list)\n",
    "print(\"The sum of the elements in the list is:\", result)\n",
    "\n"
   ]
  },
  {
   "cell_type": "markdown",
   "id": "4ead11e5",
   "metadata": {},
   "source": [
    "# Question 14 : Write a recursive function to determine whether a given string is a palindrome."
   ]
  },
  {
   "cell_type": "code",
   "execution_count": 18,
   "id": "b8a623f8",
   "metadata": {},
   "outputs": [
    {
     "name": "stdout",
     "output_type": "stream",
     "text": [
      "The string \"radar\" is a palindrome.\n"
     ]
    }
   ],
   "source": [
    "def is_palindrome(s):\n",
    "    if len(s) <= 1:\n",
    "        return True\n",
    "    else:\n",
    "        return s[0] == s[-1] and is_palindrome(s[1:-1])\n",
    "\n",
    "example_string = \"radar\"\n",
    "result = is_palindrome(example_string)\n",
    "\n",
    "if result:\n",
    "    print(f'The string \"{example_string}\" is a palindrome.')\n",
    "else:\n",
    "    print(f'The string \"{example_string}\" is not a palindrome.')\n"
   ]
  },
  {
   "cell_type": "markdown",
   "id": "c339bad7",
   "metadata": {},
   "source": [
    "# Question 15 : Implement a recursive function to find the greatest common divisor (GCD) of two positive integers."
   ]
  },
  {
   "cell_type": "code",
   "execution_count": 21,
   "id": "f754d7b7",
   "metadata": {},
   "outputs": [
    {
     "name": "stdout",
     "output_type": "stream",
     "text": [
      "The GCD of 48 and 18 is: 6\n"
     ]
    }
   ],
   "source": [
    "def gcd(a, b):\n",
    "    if b == 0:\n",
    "        return a\n",
    "    else:\n",
    "        return gcd(b, a % b)\n",
    "    \n",
    "num1 = 48\n",
    "num2 = 18\n",
    "result = gcd(num1, num2)\n",
    "\n",
    "print(f'The GCD of {num1} and {num2} is:', result)\n",
    "\n"
   ]
  },
  {
   "cell_type": "code",
   "execution_count": null,
   "id": "ee1a2c8d",
   "metadata": {},
   "outputs": [],
   "source": []
  }
 ],
 "metadata": {
  "kernelspec": {
   "display_name": "Python 3 (ipykernel)",
   "language": "python",
   "name": "python3"
  },
  "language_info": {
   "codemirror_mode": {
    "name": "ipython",
    "version": 3
   },
   "file_extension": ".py",
   "mimetype": "text/x-python",
   "name": "python",
   "nbconvert_exporter": "python",
   "pygments_lexer": "ipython3",
   "version": "3.11.4"
  }
 },
 "nbformat": 4,
 "nbformat_minor": 5
}
