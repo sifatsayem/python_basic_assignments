{
 "cells": [
  {
   "cell_type": "markdown",
   "id": "d32c9d55",
   "metadata": {},
   "source": [
    "21 May\n",
    "\n",
    "Python Basic - 2\n",
    "\n",
    "Q.1. Create two int type variables, apply addition, subtraction, division and multiplications\n",
    "and store the results in variables. Then print the data in the following format by calling the\n",
    "variables:\n",
    "First variable is __ & second variable is __.\n",
    "Addition: __ + __ = __\n",
    "Subtraction: __ - __ = __\n",
    "Multiplication: __ * __ = __\n",
    "Division: __ / __ = __\n",
    "Q.2. What is the difference between the following operators:\n",
    "(i) ‘/’ & ‘//’\n",
    "(ii) ‘**’ & ‘^’\n",
    "Q.3. List the logical operators.\n",
    "Q.4. Explain right shift operator and left shift operator with examples.\n",
    "Q.5. Create a list containing int type data of length 15. Then write a code to check if 10 is present in the list or not."
   ]
  },
  {
   "cell_type": "code",
   "execution_count": null,
   "id": "03e8f420",
   "metadata": {},
   "outputs": [],
   "source": [
    "Question 1 : \n",
    "Create two int type variables, apply addition, subtraction, division and multiplications\n",
    "and store the results in variables. Then print the data in the following format by calling the\n",
    "variables:\n",
    "First variable is __ & second variable is __.\n",
    "Addition: __ + __ = __\n",
    "Subtraction: __ - __ = __\n",
    "Multiplication: __ * __ = __\n",
    "Division: __ / __ = __"
   ]
  },
  {
   "cell_type": "code",
   "execution_count": 1,
   "id": "eb30d624",
   "metadata": {},
   "outputs": [
    {
     "name": "stdout",
     "output_type": "stream",
     "text": [
      "First variable is 10 & second variable is 5.\n",
      "Addition: 10 + 5 = 15\n",
      "Subtraction: 10 - 5 = 5\n",
      "Multiplication: 10 * 5 = 50\n",
      "Division: 10 / 5 = 2.00\n"
     ]
    }
   ],
   "source": [
    "\n",
    "first_variable = 10\n",
    "second_variable = 5\n",
    "\n",
    "\n",
    "addition_result = first_variable + second_variable\n",
    "subtraction_result = first_variable - second_variable\n",
    "multiplication_result = first_variable * second_variable\n",
    "division_result = first_variable / second_variable\n",
    "\n",
    "\n",
    "\n",
    "print(f\"First variable is {first_variable} & second variable is {second_variable}.\")\n",
    "print(f\"Addition: {first_variable} + {second_variable} = {addition_result}\")\n",
    "print(f\"Subtraction: {first_variable} - {second_variable} = {subtraction_result}\")\n",
    "print(f\"Multiplication: {first_variable} * {second_variable} = {multiplication_result}\")\n",
    "print(f\"Division: {first_variable} / {second_variable} = {division_result:.2f}\")\n",
    "\n"
   ]
  },
  {
   "cell_type": "code",
   "execution_count": null,
   "id": "a36b20d4",
   "metadata": {},
   "outputs": [],
   "source": [
    "Question 2 : \n",
    "Q.2. What is the difference between the following operators:\n",
    "(i) ‘/’ & ‘//’\n",
    "(ii) ‘**’ & ‘^’"
   ]
  },
  {
   "cell_type": "code",
   "execution_count": null,
   "id": "a57114b3",
   "metadata": {},
   "outputs": [],
   "source": [
    "Answer : \n",
    "(1)\n",
    "'/' gives a floating-point result (true division).\n",
    "'//' gives an integer result (floor division)\n",
    "(2)\n",
    "    '**' is used for exponentiation.\n",
    "    '^' is used for bitwise XOR."
   ]
  },
  {
   "cell_type": "code",
   "execution_count": null,
   "id": "1af20c13",
   "metadata": {},
   "outputs": [],
   "source": [
    "Question 3 : List the logical operators.\n"
   ]
  },
  {
   "cell_type": "code",
   "execution_count": null,
   "id": "9cb2a5cd",
   "metadata": {},
   "outputs": [],
   "source": [
    "Answer : \n",
    "In Python, the logical operators are:\n",
    "\n",
    "    and: Returns True if both the operands are true.\n",
    "    or: Returns True if at least one of the operands is true.\n",
    "    not: Returns True if the operand is false, and vice versa."
   ]
  },
  {
   "cell_type": "code",
   "execution_count": null,
   "id": "f215b373",
   "metadata": {},
   "outputs": [],
   "source": [
    "Question 4 : \n",
    "Explain right shift operator and left shift operator with examples."
   ]
  },
  {
   "cell_type": "markdown",
   "id": "dc4f4100",
   "metadata": {},
   "source": [
    "Answer : \n",
    "\n",
    "Right Shift Operator (>>):\n",
    "\n",
    "The right shift operator (>>) shifts the bits of a number to the right by a specified number of positions. It fills the vacant positions with the sign bit (the leftmost bit).\n",
    "\n",
    " Right shifting 8 by 2 positions\n",
    " \n",
    "result = 8 >> 2\n",
    "\n",
    " Binary representation of 8 is 1000\n",
    " \n",
    "After right shifting by 2 positions, it becomes 0010, which is 2 in decimal\n",
    "\n",
    "print(result)  # Output: 2\n",
    "\n",
    "Left Shift Operator (<<):\n",
    "\n",
    "The left shift operator (<<) shifts the bits of a number to the left by a specified number of positions. It fills the vacant positions with zeros.\n",
    "\n",
    "Left shifting 8 by 2 positions\n",
    "\n",
    "result = 8 << 2\n",
    "\n",
    " Binary representation of 8 is 1000\n",
    " \n",
    "After left shifting by 2 positions, it becomes 100000, which is 32 in decimal\n",
    "\n",
    "print(result)  # Output: 32\n",
    "\n"
   ]
  },
  {
   "cell_type": "code",
   "execution_count": null,
   "id": "cff08677",
   "metadata": {},
   "outputs": [],
   "source": [
    "Question 5 :\n",
    "Create a list containing int type data of length 15. Then write a code to check if 10 is\n",
    "present in the list or not."
   ]
  },
  {
   "cell_type": "code",
   "execution_count": null,
   "id": "f11adec9",
   "metadata": {},
   "outputs": [],
   "source": []
  }
 ],
 "metadata": {
  "kernelspec": {
   "display_name": "Python 3 (ipykernel)",
   "language": "python",
   "name": "python3"
  },
  "language_info": {
   "codemirror_mode": {
    "name": "ipython",
    "version": 3
   },
   "file_extension": ".py",
   "mimetype": "text/x-python",
   "name": "python",
   "nbconvert_exporter": "python",
   "pygments_lexer": "ipython3",
   "version": "3.11.4"
  }
 },
 "nbformat": 4,
 "nbformat_minor": 5
}
