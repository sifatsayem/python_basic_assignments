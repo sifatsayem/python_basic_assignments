{
 "cells": [
  {
   "cell_type": "markdown",
   "id": "6cf9aa6e",
   "metadata": {},
   "source": [
    "1.What are the two values of the Boolean data type? How do you write them?\n",
    "2. What are the three different types of Boolean operators?\n",
    "3. Make a list of each Boolean operator&#39;s truth tables (i.e. every possible combination of Boolean\n",
    "values for the operator and what it evaluate ).\n",
    "4. What are the values of the following expressions?\n",
    "(5 &gt; 4) and (3 == 5)\n",
    "not (5 &gt; 4)\n",
    "(5 &gt; 4) or (3 == 5)\n",
    "not ((5 &gt; 4) or (3 == 5))\n",
    "(True and True) and (True == False)\n",
    "(not False) or (not True)\n",
    "5. What are the six comparison operators?\n",
    "6. How do you tell the difference between the equal to and assignment operators?Describe a\n",
    "condition and when you would use one.\n",
    "7. Identify the three blocks in this code:\n",
    "spam = 0\n",
    "if spam == 10:\n",
    "print(&#39;eggs&#39;)\n",
    "if spam &gt; 5:\n",
    "print(&#39;bacon&#39;)\n",
    "else:\n",
    "print(&#39;ham&#39;)\n",
    "print(&#39;spam&#39;)\n",
    "print(&#39;spam&#39;)\n",
    "8. Write code that prints Hello if 1 is stored in spam, prints Howdy if 2 is stored in spam, and prints\n",
    "Greetings! if anything else is stored in spam.\n",
    "\n",
    "9.If your programme is stuck in an endless loop, what keys you’ll press?\n",
    "10. How can you tell the difference between break and continue?\n",
    "11. In a for loop, what is the difference between range(10), range(0, 10), and range(0, 10, 1)?\n",
    "12. Write a short program that prints the numbers 1 to 10 using a for loop. Then write an equivalent\n",
    "program that prints the numbers 1 to 10 using a while loop.\n",
    "13. If you had a function named bacon() inside a module named spam, how would you call it after\n",
    "importing spam?"
   ]
  },
  {
   "cell_type": "markdown",
   "id": "4507554e",
   "metadata": {},
   "source": [
    "# Question 1 : What are the two values of the Boolean data type? How do you write them?"
   ]
  },
  {
   "cell_type": "markdown",
   "id": "88a6373d",
   "metadata": {},
   "source": [
    "Answer : The Boolean data type has two possible values: true and false\n",
    "        is_true = True\n",
    "        is_false = False\n"
   ]
  },
  {
   "cell_type": "markdown",
   "id": "51218812",
   "metadata": {},
   "source": [
    "# Question 2 : What are the three different types of Boolean operators?"
   ]
  },
  {
   "cell_type": "markdown",
   "id": "f28cbf7f",
   "metadata": {},
   "source": [
    "answer : \n",
    "    and: The and operator returns True if both operands are true; otherwise, it returns False.\n",
    "    or: The or operator returns True if at least one of the operands is true; if both are false, it returns False\n",
    "    not: The not operator returns the opposite of the operand. If the operand is True, not returns False; if the operand is          False, not returns True."
   ]
  },
  {
   "cell_type": "markdown",
   "id": "147c4434",
   "metadata": {},
   "source": [
    "# Question 3 : Make a list of each Boolean operators truth tables (i.e. every possible combination of Boolean values for the operator and what it evaluate ).\n"
   ]
  },
  {
   "cell_type": "markdown",
   "id": "f79a48ca",
   "metadata": {},
   "source": [
    "AND Operator Truth Table :\n",
    "A         B     A and B\n",
    "True     True   True\n",
    "True     False  False\n",
    "False    True   False\n",
    "False    False  False\n",
    "\n",
    "OR Operator Truth Table :\n",
    "A         B     A or B\n",
    "True     True   True\n",
    "True     False  True\n",
    "False    True   True\n",
    "False    False  False\n",
    "\n",
    "NOT Operator Truth Table :\n",
    "    \n",
    "A       not A\n",
    "True    False\n",
    "False   True\n",
    "\n"
   ]
  },
  {
   "cell_type": "markdown",
   "id": "95ee12ab",
   "metadata": {},
   "source": [
    "Question 4 : What are the values of the following expressions?\n",
    "(5 &gt; 4) and (3 == 5)\n",
    "not (5 &gt; 4)\n",
    "(5 &gt; 4) or (3 == 5)\n",
    "not ((5 &gt; 4) or (3 == 5))\n",
    "(True and True) and (True == False)\n",
    "(not False) or (not True)"
   ]
  },
  {
   "cell_type": "markdown",
   "id": "c77e73f5",
   "metadata": {},
   "source": [
    "Answer : \n",
    "    1 (5 > 4) and (3 == 5) is False\n",
    "    2 not (5 > 4) is False\n",
    "    3 (5 > 4) or (3 == 5) is True\n",
    "    4 not ((5 > 4) or (3 == 5)) is False\n",
    "    5 (True and True) and (True == False) is False\n",
    "    6 (not False) or (not True) is True"
   ]
  },
  {
   "cell_type": "markdown",
   "id": "f2260a89",
   "metadata": {},
   "source": [
    "# Question 5 : What are the six comparison operators?"
   ]
  },
  {
   "cell_type": "markdown",
   "id": "1eb57db0",
   "metadata": {},
   "source": [
    "Answer : \n",
    "        \n",
    "    1 Equal to (==): Checks if two values are equal.\n",
    "\n",
    "    Example: 5 == 5 evaluates to True.\n",
    "\n",
    "    2 Not equal to (!=): Checks if two values are not equal.\n",
    "\n",
    "    Example: 5 != 4 evaluates to True.\n",
    "\n",
    "    3 Greater than (>): Checks if the left operand is greater than the right operand.\n",
    "\n",
    "    Example: 5 > 4 evaluates to True.\n",
    "\n",
    "    4 Less than (<): Checks if the left operand is less than the right operand.\n",
    "\n",
    "    Example: 4 < 5 evaluates to True.\n",
    "\n",
    "    5 Greater than or equal to (>=): Checks if the left operand is greater than or equal to the right operand.\n",
    "\n",
    "    Example: 5 >= 5 evaluates to True.\n",
    "\n",
    "    6 Less than or equal to (<=): Checks if the left operand is less than or equal to the right operand.\n",
    "\n",
    "    Example: 4 <= 5 evaluates to True."
   ]
  },
  {
   "cell_type": "markdown",
   "id": "95d7eb2b",
   "metadata": {},
   "source": [
    "# Question 6 : How do you tell the difference between the equal to and assignment operators?Describe a condition and when you would use one.\n"
   ]
  },
  {
   "cell_type": "markdown",
   "id": "0f44ae48",
   "metadata": {},
   "source": [
    "Answer : \n",
    "    Equal to Operator (==):\n",
    "\n",
    "    Used for comparison.\n",
    "    Returns True if the values on the left and right are equal; otherwise, it returns False.\n",
    "    Example: x == y checks if the value of x is equal to the value of y.\n",
    "    \n",
    "    Assignment Operator (=):\n",
    "\n",
    "    Used for assignment.\n",
    "    Assigns the value on the right to the variable on the left.\n",
    "    Example: x = 5 assigns the value 5 to the variable x."
   ]
  },
  {
   "cell_type": "code",
   "execution_count": null,
   "id": "be3a6504",
   "metadata": {},
   "outputs": [],
   "source": [
    "Question 7 : \n",
    "    Identify the three blocks in this code:\n",
    "spam = 0\n",
    "if spam == 10:\n",
    "print(&#39;eggs&#39;)\n",
    "if spam &gt; 5:\n",
    "print(&#39;bacon&#39;)\n",
    "else:\n",
    "print(&#39;ham&#39;)\n",
    "print(&#39;spam&#39;)\n",
    "print(&#39;spam&#39;)"
   ]
  },
  {
   "cell_type": "markdown",
   "id": "eff67159",
   "metadata": {},
   "source": [
    "Answer : \n",
    "    spam = 0\n",
    "\n",
    "Block 1: First if statement\n",
    "if spam == 10:\n",
    "    print('eggs')\n",
    "\n",
    " Block 2: Second if-else statement\n",
    "if spam > 5:\n",
    "    print('bacon')\n",
    "else:\n",
    "    print('ham')\n",
    "\n",
    " Block 3: Unconditional print statement\n",
    "print('spam')\n",
    "print('spam')\n",
    "\n",
    "    Block 1: Corresponds to the first if statement. It prints 'eggs' if the value of spam is equal to 10.\n",
    "\n",
    "    Block 2: Corresponds to the second if-else statement. It prints 'bacon' if the value of spam is greater than 5; otherwise, it prints 'ham'.\n",
    "\n",
    "    Block 3: Consists of two unconditional print statements, printing 'spam' regardless of the conditions in the if statements."
   ]
  },
  {
   "cell_type": "markdown",
   "id": "07326b57",
   "metadata": {},
   "source": [
    "# Question 8 : Write code that prints Hello if 1 is stored in spam, prints Howdy if 2 is stored in spam, and prints Greetings! if anything else is stored in spam.\n"
   ]
  },
  {
   "cell_type": "code",
   "execution_count": 5,
   "id": "fffa0235",
   "metadata": {},
   "outputs": [
    {
     "name": "stdout",
     "output_type": "stream",
     "text": [
      "entr something 5\n",
      "greeting\n"
     ]
    }
   ],
   "source": [
    "# Answer : \n",
    "spam= int(input(\"entr something \"))\n",
    "if spam == 1 :\n",
    "    print (\"hello\")\n",
    "elif spam == 2 :\n",
    "    print (\"howdy\")\n",
    "else :\n",
    "    print (\"greeting\")"
   ]
  },
  {
   "cell_type": "markdown",
   "id": "c2f76dce",
   "metadata": {},
   "source": [
    "# Question 9 : If your programme is stuck in an endless loop, what keys you’ll press?"
   ]
  },
  {
   "cell_type": "code",
   "execution_count": null,
   "id": "97b84640",
   "metadata": {},
   "outputs": [],
   "source": [
    "Answer : Press Ctrl + C"
   ]
  },
  {
   "cell_type": "markdown",
   "id": "dc13360d",
   "metadata": {},
   "source": [
    "# question 10 : How can you tell the difference between break and continue?"
   ]
  },
  {
   "cell_type": "markdown",
   "id": "9ddf927b",
   "metadata": {},
   "source": [
    "Answer : \n",
    "    break and continue are two control flow statements used within loops, but they serve different purposes.\n",
    "    \n",
    "    break:\n",
    "\n",
    "    The break statement is used to exit or terminate a loop prematurely.\n",
    "    When encountered, it immediately exits the loop, and the program continues with the next statement after the loop\n",
    "    \n",
    "    for i in range(5):\n",
    "    if i == 3:\n",
    "        break\n",
    "    print(i)\n",
    "    \n",
    "   In this example, the loop will print numbers 0, 1, and 2. When i becomes 3, the break statement is executed, and the loop terminates.\n",
    "\n",
    "   continue:\n",
    "\n",
    "    The continue statement is used to skip the rest of the code inside a loop for the current iteration and move to the next iteration.\n",
    "    Unlike break, continue doesn't exit the loop; it just skips the current iteration and continues with the next one.\n",
    "    \n",
    "    for i in range(5):\n",
    "    if i == 2:\n",
    "        continue\n",
    "    print(i)\n",
    "    \n",
    "    In this example, the loop will print numbers 0, 1, 3, and 4. When i is 2, the continue statement is executed, skipping the print(i) statement for that iteration.\n",
    "    \n",
    "    "
   ]
  },
  {
   "cell_type": "markdown",
   "id": "bc2b45b2",
   "metadata": {},
   "source": [
    "# Question 11 : In a for loop, what is the difference between range(10), range(0, 10), and range(0, 10, 1)?"
   ]
  },
  {
   "cell_type": "markdown",
   "id": "d9a57a9b",
   "metadata": {},
   "source": [
    "Answer : \n",
    "    range(10):\n",
    "\n",
    "    This generates a sequence of numbers from 0 to 9 (10 numbers in total).\n",
    "    The default starting value is 0, and the default step size is 1.\n",
    "    \n",
    "    range(0, 10):\n",
    "\n",
    "    This also generates a sequence of numbers from 0 to 9.\n",
    "    The specified starting value is 0, and the default step size is 1 (which is not explicitly provided).\n",
    "    \n",
    "    range(0, 10, 1):\n",
    "\n",
    "    This is equivalent to range(0, 10) since the default step size is 1.\n",
    "    It generates a sequence of numbers from 0 to 9."
   ]
  },
  {
   "cell_type": "markdown",
   "id": "92296e01",
   "metadata": {},
   "source": [
    "# Question 12 : Write a short program that prints the numbers 1 to 10 using a for loop. Then write an equivalent program that prints the numbers 1 to 10 using a while loop.\n"
   ]
  },
  {
   "cell_type": "code",
   "execution_count": 7,
   "id": "2543c28c",
   "metadata": {},
   "outputs": [
    {
     "name": "stdout",
     "output_type": "stream",
     "text": [
      "0\n",
      "1\n",
      "2\n",
      "3\n",
      "4\n",
      "5\n",
      "6\n",
      "7\n",
      "8\n",
      "9\n",
      "10\n"
     ]
    }
   ],
   "source": [
    "for i in range(11):\n",
    "    print(i)"
   ]
  },
  {
   "cell_type": "code",
   "execution_count": 4,
   "id": "576823eb",
   "metadata": {},
   "outputs": [
    {
     "name": "stdout",
     "output_type": "stream",
     "text": [
      "1\n",
      "2\n",
      "3\n",
      "4\n",
      "5\n",
      "6\n",
      "7\n",
      "8\n",
      "9\n",
      "10\n"
     ]
    }
   ],
   "source": [
    "i=0\n",
    "while i < 10 : \n",
    "    i=i+1\n",
    "    print(i)"
   ]
  },
  {
   "cell_type": "markdown",
   "id": "46ff1655",
   "metadata": {},
   "source": [
    "# Question 13 : If you had a function named bacon() inside a module named spam, how would you call it after importing spam?\n",
    "\n"
   ]
  },
  {
   "cell_type": "code",
   "execution_count": null,
   "id": "9be2e537",
   "metadata": {},
   "outputs": [],
   "source": [
    "import spam\n",
    "\n",
    "spam.bacon()\n"
   ]
  }
 ],
 "metadata": {
  "kernelspec": {
   "display_name": "Python 3 (ipykernel)",
   "language": "python",
   "name": "python3"
  },
  "language_info": {
   "codemirror_mode": {
    "name": "ipython",
    "version": 3
   },
   "file_extension": ".py",
   "mimetype": "text/x-python",
   "name": "python",
   "nbconvert_exporter": "python",
   "pygments_lexer": "ipython3",
   "version": "3.11.4"
  }
 },
 "nbformat": 4,
 "nbformat_minor": 5
}
