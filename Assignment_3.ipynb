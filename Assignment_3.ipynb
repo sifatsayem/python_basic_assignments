{
 "cells": [
  {
   "cell_type": "markdown",
   "id": "ec422e6b",
   "metadata": {},
   "source": [
    "# Question 1 :  Why are functions advantageous to have in your programs?"
   ]
  },
  {
   "cell_type": "markdown",
   "id": "ee66597e",
   "metadata": {},
   "source": [
    "Answer : \n",
    "    Functions  provide several advantages:\n",
    "\n",
    "    Modularity: Functions allow us to break down a program into smaller, manageable pieces. Each function can perform a specific task, making the code more modular and easier to understand, maintain, and debug.\n",
    "\n",
    "    Reuseability: Once a function is defined, it can be reused in different parts of the program or even in different programs. This promotes code reuse, saving time and effort.\n",
    "\n",
    "    Readability: Functions enhance code readability by encapsulating complex operations or logic behind a simple interface. This makes the main program more readable and easier to follow.\n",
    "\n",
    "    Abstraction: Functions allow us  to abstract away the implementation details and focus on the higher-level functionality. Users of the function only need to know how to use it, not how it's implemented."
   ]
  },
  {
   "cell_type": "markdown",
   "id": "064c51a4",
   "metadata": {},
   "source": [
    "# Question 2 : When does the code in a function run: when its specified or when its called?"
   ]
  },
  {
   "cell_type": "markdown",
   "id": "ce56be52",
   "metadata": {},
   "source": [
    "Answer : \n",
    "    The code in a function runs when the function is called, not when it's specified or defined.\n",
    "    \n",
    "    When we  define a function in Python, we  are essentially creating a reusable block of code that won't execute until we     explicitly call that function in our program.\n",
    "    \n",
    "    def my_function():\n",
    "    print(\"This code runs when the function is called.\")\n",
    "\n",
    "    Function is defined, but the code inside hasn't run yet\n",
    "\n",
    "     Now, we call the function\n",
    "     \n",
    "my_function()\n"
   ]
  },
  {
   "cell_type": "markdown",
   "id": "eef205e3",
   "metadata": {},
   "source": [
    "# Question 3 : What statement creates a function?"
   ]
  },
  {
   "cell_type": "markdown",
   "id": "4d61576a",
   "metadata": {},
   "source": [
    "Answer : \n",
    "    The def statement creates a function in Python."
   ]
  },
  {
   "cell_type": "markdown",
   "id": "800ff103",
   "metadata": {},
   "source": [
    "# Question 4 : What is the difference between a function and a function call?"
   ]
  },
  {
   "cell_type": "markdown",
   "id": "97b6b7f0",
   "metadata": {},
   "source": [
    "Answer : \n",
    "        A function is a block of reusable code defined using the def keyword. It specifies a set of actions to be performed.\n",
    "\n",
    "    A function call is the actual execution of the function, invoking it by its name followed by parentheses. This triggers the code inside the function to run with specific arguments if required."
   ]
  },
  {
   "cell_type": "markdown",
   "id": "ff3fcd9b",
   "metadata": {},
   "source": [
    "#  Question 5 : How many global scopes are there in a Python program? How many local scopes?"
   ]
  },
  {
   "cell_type": "markdown",
   "id": "7f89b82c",
   "metadata": {},
   "source": [
    "Answer : \n",
    "    In a Python program, there is only one global scope. This global scope is the outermost scope and includes the names assigned at the top level of the program or module.\n",
    "\n",
    "Local scopes, on the other hand, can be multiple. Each function call creates a new local scope. Variables defined inside a function are local to that function and not accessible outside of it. When the function is called, a new local scope is created, and when the function finishes execution, the local scope is destroyed."
   ]
  },
  {
   "cell_type": "markdown",
   "id": "1e35b251",
   "metadata": {},
   "source": [
    "# Question 6 : What happens to variables in a local scope when the function call returns?"
   ]
  },
  {
   "cell_type": "markdown",
   "id": "2427fb69",
   "metadata": {},
   "source": [
    "Answer : \n",
    "    When a function call returns in Python, the local scope associated with that function is destroyed. Any variables defined within that local scope cease to exist, and their values are no longer accessible.\n",
    "\n",
    "This concept is often referred to as the lifetime or scope of a variable. Variables defined inside a function are local to that function, and they exist only as long as the function is executing. Once the function completes its execution and returns, the local scope is discarded, and the variables within it are no longer available"
   ]
  },
  {
   "cell_type": "markdown",
   "id": "610b9aaa",
   "metadata": {},
   "source": [
    "# Question 7 : What is the concept of a return value? Is it possible to have a return value in an expression?"
   ]
  },
  {
   "cell_type": "markdown",
   "id": "85760b1e",
   "metadata": {},
   "source": [
    "\n",
    "Answer : \n",
    "    The concept of a return value in programming, including Python, refers to the value that a function provides back to the code that called it. When a function is executed, it may perform computations or operations and then use the return statement to send a value back to the calling code.\n",
    "\n",
    "The return statement is followed by an expression whose value will be the return value of the function. This allows functions to produce results that can be used in the context where the function was called."
   ]
  },
  {
   "cell_type": "markdown",
   "id": "1e1162bb",
   "metadata": {},
   "source": [
    "# Question 8 : If a function does not have a return statement, what is the return value of a call to that function?"
   ]
  },
  {
   "cell_type": "markdown",
   "id": "0aeffcae",
   "metadata": {},
   "source": [
    "Answer : \n",
    "    If a function in Python does not have a return statement, or if it has a return statement without an expression following it, the function implicitly returns None. None is a special constant in Python that represents the absence of a value or a null value."
   ]
  },
  {
   "cell_type": "markdown",
   "id": "0716b9fe",
   "metadata": {},
   "source": [
    "# Question 9 : How do you make a function variable refer to the global variable?"
   ]
  },
  {
   "cell_type": "markdown",
   "id": "198aab1f",
   "metadata": {},
   "source": [
    "Answer : \n",
    "    In Python, if we want a function to refer to a global variable, we can use the global keyword within the function. This informs Python that the variable being referred to is a global variable, not a local one."
   ]
  },
  {
   "cell_type": "markdown",
   "id": "793f7255",
   "metadata": {},
   "source": [
    "# Question 10 : What is the data type of None?"
   ]
  },
  {
   "cell_type": "markdown",
   "id": "ed7c97b1",
   "metadata": {},
   "source": [
    "\n",
    "Answer :\n",
    "    In Python, None is a special constant that represents the absence of a value or a null value. It is often used to signify that a variable or a function doesn't have a meaningful result or that a variable hasn't been assigned a value.\n",
    "    "
   ]
  },
  {
   "cell_type": "markdown",
   "id": "eea5a00a",
   "metadata": {},
   "source": [
    "# Question 11 : What does the sentence import areallyourpetsnamederic do?"
   ]
  },
  {
   "cell_type": "code",
   "execution_count": null,
   "id": "aff1c24c",
   "metadata": {},
   "outputs": [],
   "source": [
    "Answer : I dont under stand the question "
   ]
  },
  {
   "cell_type": "markdown",
   "id": "b518632d",
   "metadata": {},
   "source": [
    "# Question 12 : you had a bacon() feature in a spam module, what would you call it after importing spam?"
   ]
  },
  {
   "cell_type": "code",
   "execution_count": null,
   "id": "d2098598",
   "metadata": {},
   "outputs": [],
   "source": [
    "Answer : \n",
    "    import spam\n",
    "\n",
    "    spam.bacon()\n"
   ]
  },
  {
   "cell_type": "markdown",
   "id": "8e1daa71",
   "metadata": {},
   "source": [
    "# Question 13 : What can you do to save a programme from crashing if it encounters an error?"
   ]
  },
  {
   "cell_type": "markdown",
   "id": "d5fea3c4",
   "metadata": {},
   "source": [
    "Answer : \n",
    "    To prevent a program from crashing when it encounters an error, we can use error handling techniques. In Python, this is typically done using a combination of try, except, else, and finally blocks. This allows us to catch and handle exceptions, keeping our  program running even if unexpected errors occur."
   ]
  },
  {
   "cell_type": "markdown",
   "id": "25b0116c",
   "metadata": {},
   "source": [
    "# Question 14 : What is the purpose of the try clause? What is the purpose of the except clause?"
   ]
  },
  {
   "cell_type": "markdown",
   "id": "c14a614b",
   "metadata": {},
   "source": [
    "Answer :\n",
    "Purpose of the try clause:\n",
    "The try clause is used to enclose a block of code where an exception might occur.\n",
    "Code inside the try block is executed, and if an exception occurs, the control is transferred to the corresponding except block.\n",
    "It allows you to \"try\" a sequence of statements where you anticipate that an exception might occur.\n",
    "\n",
    "Purpose of the except clause:\n",
    "The except clause is used to catch and handle exceptions that might occur in the corresponding try block.\n",
    "If an exception occurs in the try block, the code inside the appropriate except block is executed, allowing you to handle the exception gracefully.\n",
    "Multiple except blocks can be used to catch different types of exceptions or to provide different handling for each."
   ]
  },
  {
   "cell_type": "code",
   "execution_count": null,
   "id": "09f4e48e",
   "metadata": {},
   "outputs": [],
   "source": []
  }
 ],
 "metadata": {
  "kernelspec": {
   "display_name": "Python 3 (ipykernel)",
   "language": "python",
   "name": "python3"
  },
  "language_info": {
   "codemirror_mode": {
    "name": "ipython",
    "version": 3
   },
   "file_extension": ".py",
   "mimetype": "text/x-python",
   "name": "python",
   "nbconvert_exporter": "python",
   "pygments_lexer": "ipython3",
   "version": "3.11.4"
  }
 },
 "nbformat": 4,
 "nbformat_minor": 5
}
