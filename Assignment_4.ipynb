{
 "cells": [
  {
   "cell_type": "markdown",
   "id": "974e2990",
   "metadata": {},
   "source": [
    "1. What exactly is []?\n",
    "2. In a list of values stored in a variable called spam, how would you assign the value &#39;hello&#39; as the\n",
    "third value? (Assume [2, 4, 6, 8, 10] are in spam.)\n",
    "Let&#39;s pretend the spam includes the list [&#39;a&#39;, &#39;b&#39;, &#39;c&#39;, &#39;d&#39;] for the next three queries.\n",
    "3. What is the value of spam[int(int(&#39;3&#39; * 2) / 11)]?\n",
    "4. What is the value of spam[-1]?\n",
    "5. What is the value of spam[:2]?\n",
    "Let&#39;s pretend bacon has the list [3.14, &#39;cat,&#39; 11, &#39;cat,&#39; True] for the next three questions.\n",
    "6. What is the value of bacon.index(&#39;cat&#39;)?\n",
    "7. How does bacon.append(99) change the look of the list value in bacon?\n",
    "8. How does bacon.remove(&#39;cat&#39;) change the look of the list in bacon?\n",
    "9. What are the list concatenation and list replication operators?\n",
    "10. What is difference between the list methods append() and insert()?\n",
    "11. What are the two methods for removing items from a list?\n",
    "12. Describe how list values and string values are identical.\n",
    "13. What&#39;s the difference between tuples and lists?\n",
    "14. How do you type a tuple value that only contains the integer 42?\n",
    "15. How do you get a list value&#39;s tuple form? How do you get a tuple value&#39;s list form?\n",
    "16. Variables that &quot;contain&quot; list values are not necessarily lists themselves. Instead, what do they\n",
    "contain?\n",
    "17. How do you distinguish between copy.copy() and copy.deepcopy()?"
   ]
  },
  {
   "cell_type": "markdown",
   "id": "453a00e3",
   "metadata": {},
   "source": [
    "# Question 1 : What exactly is []?"
   ]
  },
  {
   "cell_type": "code",
   "execution_count": null,
   "id": "9e8bac48",
   "metadata": {},
   "outputs": [],
   "source": [
    "Answer : \n",
    "    In Python, [] represents an empty list."
   ]
  },
  {
   "cell_type": "markdown",
   "id": "b34798c2",
   "metadata": {},
   "source": [
    "# Question 2 : In a list of values stored in a variable called spam, how would you assign the value hello as the third value? (Assume [2, 4, 6, 8, 10] are in spam.)\n"
   ]
  },
  {
   "cell_type": "code",
   "execution_count": 3,
   "id": "ac053928",
   "metadata": {},
   "outputs": [
    {
     "data": {
      "text/plain": [
       "[2, 4, 'hello', 8, 10]"
      ]
     },
     "execution_count": 3,
     "metadata": {},
     "output_type": "execute_result"
    }
   ],
   "source": [
    "# Answer : \n",
    "ly=[2, 4, 6, 8, 10]\n",
    "ly[2]=\"hello\"\n",
    "ly"
   ]
  },
  {
   "cell_type": "markdown",
   "id": "31688958",
   "metadata": {},
   "source": [
    "# Let&#39;s pretend the spam includes the list [&#39;a&#39;, &#39;b&#39;, &#39;c&#39;, &#39;d&#39;] for the next three queries."
   ]
  },
  {
   "cell_type": "markdown",
   "id": "95807f8a",
   "metadata": {},
   "source": [
    "# Question 3 : What is the value of spam[int(int(&#39;3&#39; * 2) / 11)]?"
   ]
  },
  {
   "cell_type": "markdown",
   "id": "edbdf1de",
   "metadata": {},
   "source": [
    "Answer : d"
   ]
  },
  {
   "cell_type": "markdown",
   "id": "93b33e1a",
   "metadata": {},
   "source": [
    "# Question 4 : What is the value of spam[-1]?"
   ]
  },
  {
   "cell_type": "code",
   "execution_count": null,
   "id": "2efab74c",
   "metadata": {},
   "outputs": [],
   "source": [
    "Answer : d"
   ]
  },
  {
   "cell_type": "markdown",
   "id": "26271b1c",
   "metadata": {},
   "source": [
    "# Question 5 : What is the value of spam[:2]?"
   ]
  },
  {
   "cell_type": "code",
   "execution_count": null,
   "id": "43bdf7b2",
   "metadata": {},
   "outputs": [],
   "source": [
    "Answer : a,b"
   ]
  },
  {
   "cell_type": "markdown",
   "id": "8d45243a",
   "metadata": {},
   "source": [
    "# Let&#39;s pretend bacon has the list [3.14, &#39;cat,&#39; 11, &#39;cat,&#39; True] for the next three questions."
   ]
  },
  {
   "cell_type": "markdown",
   "id": "729ff058",
   "metadata": {},
   "source": [
    "# Question 6 : What is the value of bacon.index(&#39;cat&#39;)?"
   ]
  },
  {
   "cell_type": "code",
   "execution_count": 15,
   "id": "ab291e36",
   "metadata": {},
   "outputs": [],
   "source": [
    "Answer : 1 and 3"
   ]
  },
  {
   "cell_type": "markdown",
   "id": "0a9fc993",
   "metadata": {},
   "source": [
    "# question  7 : How does bacon.append(99) change the look of the list value in bacon?"
   ]
  },
  {
   "cell_type": "code",
   "execution_count": null,
   "id": "58ff0459",
   "metadata": {},
   "outputs": [],
   "source": [
    " Answer : [3.14, 'cat,' 11, 'cat,' True,99]"
   ]
  },
  {
   "cell_type": "markdown",
   "id": "dfc4b6c8",
   "metadata": {},
   "source": [
    "# Question 8 : How does bacon.remove(&#39;cat&#39;) change the look of the list in bacon?"
   ]
  },
  {
   "cell_type": "code",
   "execution_count": 19,
   "id": "ca606c9d",
   "metadata": {},
   "outputs": [
    {
     "data": {
      "text/plain": [
       "[3.14, 11, 'cat', True]"
      ]
     },
     "execution_count": 19,
     "metadata": {},
     "output_type": "execute_result"
    }
   ],
   "source": [
    "bacon=[3.14, 'cat', 11, 'cat', True]\n",
    "bacon.remove('cat')\n",
    "bacon\n"
   ]
  },
  {
   "cell_type": "markdown",
   "id": "fc00944c",
   "metadata": {},
   "source": [
    "# Question 9 : What are the list concatenation and list replication operators?"
   ]
  },
  {
   "cell_type": "markdown",
   "id": "09d27e63",
   "metadata": {},
   "source": [
    "Answer : \n",
    "List Concatenation (+):\n",
    "\n",
    "    The + operator is used to concatenate two or more lists, resulting in a new list that contains all the elements from the concatenated lists.\n",
    "list1 = [1, 2, 3]\n",
    "list2 = ['a', 'b', 'c']\n",
    "concatenated_list = list1 + list2\n",
    "print(concatenated_list)\n",
    "\n",
    "List Replication (*):\n",
    "\n",
    "The * operator is used to replicate a list by repeating its elements a specified number of times.\n",
    "\n",
    "original_list = [1, 2, 3]\n",
    "replicated_list = original_list * 3\n",
    "print(replicated_list)\n"
   ]
  },
  {
   "cell_type": "markdown",
   "id": "b5d59aa3",
   "metadata": {},
   "source": [
    "# question 10 :  What is difference between the list methods append() and insert()?"
   ]
  },
  {
   "cell_type": "markdown",
   "id": "cf7cda17",
   "metadata": {},
   "source": [
    "Answer : \n",
    "append() Method:\n",
    "\n",
    "    The append() method is used to add an element to the end of the list.\n",
    "    It takes a single argument, the element to be added, and appends it to the end of the list.\n",
    "my_list = [1, 2, 3]\n",
    "my_list.append(4)\n",
    "print(my_list)\n",
    "\n",
    "insert() Method:\n",
    "\n",
    "    The insert() method is used to add an element at a specific index in the list.\n",
    "    It takes two arguments: the index at which to insert the element, and the element to be inserted\n",
    "        \n",
    "my_list = [1, 2, 3]\n",
    "my_list.insert(1, 4) \n",
    "print(my_list)\n"
   ]
  },
  {
   "cell_type": "markdown",
   "id": "41751bae",
   "metadata": {},
   "source": [
    "# Question 11 : What are the two methods for removing items from a list?"
   ]
  },
  {
   "cell_type": "code",
   "execution_count": null,
   "id": "9f05c54c",
   "metadata": {},
   "outputs": [],
   "source": [
    "Answer : \n",
    "remove() Method:\n",
    "\n",
    "The remove() method is used to remove the first occurrence of a specified value from the list.\n",
    "It takes a single argument, the value to be removed.\n",
    "\n",
    "my_list = [1, 2, 3, 2, 4]\n",
    "my_list.remove(2)\n",
    "print(my_list)\n"
   ]
  },
  {
   "cell_type": "markdown",
   "id": "8476bcba",
   "metadata": {},
   "source": [
    "# Question 12 :  Describe how list values and string values are identical."
   ]
  },
  {
   "cell_type": "code",
   "execution_count": null,
   "id": "c4ec3c5c",
   "metadata": {},
   "outputs": [],
   "source": [
    "Answer : \n",
    "Sequential Access:\n",
    "\n",
    "    Both lists and strings allow sequential access to their elements.\n",
    "    we can use indexing to access individual elements, and we can iterate over the elements using loops.\n",
    "\n",
    "Immutable and Mutable Elements:\n",
    "\n",
    "    Strings are immutable, meaning their individual characters cannot be modified after creation.\n",
    "    Lists are mutable, allowing us to modify, add, or remove elements after the list is created.\n",
    "\n",
    "Length:\n",
    "\n",
    "    Both lists and strings have a length, which can be obtained using the len() function.\n",
    "    The length represents the number of elements (characters for strings) in the sequence"
   ]
  },
  {
   "cell_type": "markdown",
   "id": "5d787883",
   "metadata": {},
   "source": [
    "# Question 13 : What&#39;s the difference between tuples and lists?"
   ]
  },
  {
   "cell_type": "markdown",
   "id": "39c9c703",
   "metadata": {},
   "source": [
    "Answer : \n",
    "Tuples and lists in Python are both used to store ordered collections of items, but they have some key differences:\n",
    "\n",
    "Mutability:\n",
    "\n",
    "Lists are mutable: Elements can be added, removed, or modified after the list is created. You can use methods like append(), remove(), and pop() to modify a list.\n",
    "Tuples are immutable: Once a tuple is created, you cannot add, remove, or modify elements. The structure of a tuple remains fixed.\n",
    "\n",
    "Use Cases:\n",
    "\n",
    "Lists are used when you have a collection of items that may need to be modified during the life of the program.\n",
    "Tuples are used when the collection of items is not expected to change, providing a form of data integrity. They are often used for fixed collections like coordinates, RGB values, or as keys in dictionaries.\n",
    "\n",
    "Performance:\n",
    "\n",
    "Tuples are generally more memory-efficient and may have slightly better performance compared to lists, especially for small datasets.\n",
    "    "
   ]
  },
  {
   "cell_type": "markdown",
   "id": "2ac7bd7b",
   "metadata": {},
   "source": [
    "# Question 14 : How do you type a tuple value that only contains the integer 42?"
   ]
  },
  {
   "cell_type": "code",
   "execution_count": null,
   "id": "cf2aa7b4",
   "metadata": {},
   "outputs": [],
   "source": [
    "Answer : my_tuple = (42,)\n"
   ]
  },
  {
   "cell_type": "markdown",
   "id": "c47b00a1",
   "metadata": {},
   "source": [
    "# Question 15 : How do you get a list value&#39;s tuple form? How do you get a tuple value&#39;s list form?"
   ]
  },
  {
   "cell_type": "code",
   "execution_count": null,
   "id": "4ea9f242",
   "metadata": {},
   "outputs": [],
   "source": [
    "Answer : \n",
    "Convert a List to a Tuple:\n",
    "    \n",
    "my_list = [1, 2, 3, 4]\n",
    "tuple_form = tuple(my_list)\n",
    "print(tuple_form)\n",
    "\n",
    "Convert a Tuple to a List:\n",
    "my_tuple = (10, 20, 30, 40)\n",
    "list_form = list(my_tuple)\n",
    "print(list_form)\n"
   ]
  },
  {
   "cell_type": "markdown",
   "id": "7a8704fa",
   "metadata": {},
   "source": [
    "# Question 16 : Variables that &quot;contain&quot; list values are not necessarily lists themselves. Instead, what do they contain?\n"
   ]
  },
  {
   "cell_type": "markdown",
   "id": "0d54df2e",
   "metadata": {},
   "source": [
    "Answer : In many programming languages, including Python, variables that \"contain\" list values are typically references or pointers to the actual list objects in memory. This means that the variable doesn't store the list directly, but rather holds a reference to the location in memory where the list is stored."
   ]
  },
  {
   "cell_type": "markdown",
   "id": "ed6b458c",
   "metadata": {},
   "source": [
    "# Question 17 : How do you distinguish between copy.copy() and copy.deepcopy()?"
   ]
  },
  {
   "cell_type": "markdown",
   "id": "30ee196e",
   "metadata": {},
   "source": [
    "Answwer : In Python, the copy module provides two methods for creating copies of objects: copy() and deepcopy(). The key distinction between these two methods lies in how they handle nested objects, especially objects within objects (e.g., lists within lists or dictionaries within dictionaries)."
   ]
  },
  {
   "cell_type": "code",
   "execution_count": null,
   "id": "076c65c8",
   "metadata": {},
   "outputs": [],
   "source": []
  }
 ],
 "metadata": {
  "kernelspec": {
   "display_name": "Python 3 (ipykernel)",
   "language": "python",
   "name": "python3"
  },
  "language_info": {
   "codemirror_mode": {
    "name": "ipython",
    "version": 3
   },
   "file_extension": ".py",
   "mimetype": "text/x-python",
   "name": "python",
   "nbconvert_exporter": "python",
   "pygments_lexer": "ipython3",
   "version": "3.11.4"
  }
 },
 "nbformat": 4,
 "nbformat_minor": 5
}
