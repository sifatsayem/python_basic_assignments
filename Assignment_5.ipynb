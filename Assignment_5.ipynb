{
 "cells": [
  {
   "cell_type": "markdown",
   "id": "69a3a40b",
   "metadata": {},
   "source": [
    "1. What does an empty dictionary&#39;s code look like?\n",
    "2. What is the value of a dictionary value with the key &#39;foo&#39; and the value 42?\n",
    "3. What is the most significant distinction between a dictionary and a list?\n",
    "4. What happens if you try to access spam[&#39;foo&#39;] if spam is {&#39;bar&#39;: 100}?\n",
    "5. If a dictionary is stored in spam, what is the difference between the expressions &#39;cat&#39; in spam and\n",
    "&#39;cat&#39; in spam.keys()?\n",
    "6. If a dictionary is stored in spam, what is the difference between the expressions &#39;cat&#39; in spam and\n",
    "&#39;cat&#39; in spam.values()?\n",
    "7. What is a shortcut for the following code?\n",
    "if &#39;color&#39; not in spam:\n",
    "spam[&#39;color&#39;] = &#39;black&#39;\n",
    "\n",
    "8. How do you &quot;pretty print&quot; dictionary values using which module and function?"
   ]
  },
  {
   "cell_type": "markdown",
   "id": "1a1ca844",
   "metadata": {},
   "source": [
    "# Question 1 :  What does an empty dictionary&#39;s code look like?"
   ]
  },
  {
   "cell_type": "markdown",
   "id": "8738f576",
   "metadata": {},
   "source": [
    "Answer : \n",
    "In Python, an empty dictionary is created using curly braces {}. Here's how you can define an empty dictionary:\n",
    "empty_dict = {}\n"
   ]
  },
  {
   "cell_type": "markdown",
   "id": "3572a28a",
   "metadata": {},
   "source": [
    "# Question 2 : What is the value of a dictionary value with the key &#39;foo&#39; and the value 42?"
   ]
  },
  {
   "cell_type": "code",
   "execution_count": null,
   "id": "77ef0d84",
   "metadata": {},
   "outputs": [],
   "source": [
    "Answer : 42"
   ]
  },
  {
   "cell_type": "markdown",
   "id": "c88dfe6c",
   "metadata": {},
   "source": [
    "# question 3 : What is the most significant distinction between a dictionary and a list?"
   ]
  },
  {
   "cell_type": "code",
   "execution_count": null,
   "id": "2d9e80c9",
   "metadata": {},
   "outputs": [],
   "source": [
    "Answer : \n",
    "The most significant distinction between a dictionary and a list is how they store and access data.\n",
    "\n",
    "    Structure:\n",
    "        List: Ordered collection of items, accessed by index. Lists maintain the order of elements based on the order in which they were added.\n",
    "        Dictionary: Unordered collection of key-value pairs. Each element is accessed by a unique key, and dictionaries do not maintain any inherent order.\n",
    "\n",
    "    Accessing Elements:\n",
    "        List: Elements are accessed by their position (index) in the list. The index starts from 0 for the first element.\n",
    "        Dictionary: Elements are accessed by their unique keys. There is no concept of an index in dictionaries.\n",
    "\n",
    "    Mutability:\n",
    "        List: Mutable, meaning you can change, add, or remove elements after the list is created.\n",
    "        Dictionary: Mutable, like lists, but you modify, add, or remove elements using keys.\n",
    "\n",
    "    Syntax:\n",
    "        List: Defined using square brackets [].\n",
    "        Dictionary: Defined using curly braces {} and specifying key-value pairs."
   ]
  },
  {
   "cell_type": "markdown",
   "id": "66b2488d",
   "metadata": {},
   "source": [
    "# Question 4 : What happens if you try to access spam[&#39;foo&#39;] if spam is {&#39;bar&#39;: 100}?"
   ]
  },
  {
   "cell_type": "code",
   "execution_count": null,
   "id": "4ceb4c5e",
   "metadata": {},
   "outputs": [],
   "source": [
    "Answer : \n",
    "spam = {'bar': 100}\n",
    "\n",
    "\n",
    "value = spam['foo']  # it will give us an error cause key value is not there \n"
   ]
  },
  {
   "cell_type": "markdown",
   "id": "49bb4b39",
   "metadata": {},
   "source": []
  },
  {
   "cell_type": "markdown",
   "id": "01569688",
   "metadata": {},
   "source": [
    "# Question 5 : If a dictionary is stored in spam, what is the difference between the expressions &#39;cat&#39; in spam and &#39;cat&#39; in spam.keys()?\n"
   ]
  },
  {
   "cell_type": "code",
   "execution_count": null,
   "id": "1657da0b",
   "metadata": {},
   "outputs": [],
   "source": [
    "Answer : \n",
    "cat' in spam:\n",
    "\n",
    "    This expression checks if the key 'cat' is present in the dictionary spam.\n",
    "    It returns a boolean value (True if the key is present, False otherwise).\n",
    "spam = {'cat': 42, 'dog': 23}\n",
    "print('cat' in spam)  # Output: True\n",
    "\n",
    "'cat' in spam.keys():\n",
    "\n",
    "    This expression checks if the string 'cat' is present in the list of keys of the dictionary spam.\n",
    "    It returns a boolean value (True if the key is present, False otherwise).\n",
    "spam = {'cat': 42, 'dog': 23}\n",
    "print('cat' in spam.keys())  # Output: True\n"
   ]
  },
  {
   "cell_type": "markdown",
   "id": "452628e8",
   "metadata": {},
   "source": [
    "# Question 6 : If a dictionary is stored in spam, what is the difference between the expressions &#39;cat&#39; in spam and\n",
    "&#39;cat&#39; in spam.values()?"
   ]
  },
  {
   "cell_type": "code",
   "execution_count": null,
   "id": "885c0f47",
   "metadata": {},
   "outputs": [],
   "source": [
    "Answer : \n",
    "cat' in spam:\n",
    "\n",
    "    This expression checks if the key 'cat' is present in the keys of the dictionary spam.\n",
    "    It returns a boolean value (True if the key is present, False otherwise).\n",
    "spam = {'cat': 42, 'dog': 23}\n",
    "print('cat' in spam)  # Output: True\n",
    "\n",
    "cat' in spam.values():\n",
    "\n",
    "    This expression checks if the value 'cat' is present in the values of the dictionary spam.\n",
    "    It returns a boolean value (True if the value is present, False otherwise).\n",
    "spam = {'name': 'cat', 'age': 3, 'color': 'gray'}\n",
    "print('cat' in spam.values())  # Output: True\n"
   ]
  },
  {
   "cell_type": "markdown",
   "id": "e7872d3c",
   "metadata": {},
   "source": [
    "# Question 7 : What is a shortcut for the following code? if &#39;color&#39; not in spam: spam[&#39;color&#39;] = &#39;black&#39;\n",
    "\n"
   ]
  },
  {
   "cell_type": "markdown",
   "id": "548741e7",
   "metadata": {},
   "source": [
    "Answer : \n",
    "The code spam['color'] = 'black' is updating the value associated with the key 'color' in the dictionary spam. If the key 'color' already exists in the dictionary, this statement will update its value to 'black'. If the key does not exist, a new key-value pair will be added to the dictionary.\n",
    "\n",
    "spam = {'name': 'cat', 'age': 3, 'color': 'gray'}\n",
    "\n",
    "spam['color'] = 'black'\n",
    "\n",
    "print(spam)\n"
   ]
  },
  {
   "cell_type": "markdown",
   "id": "c52121d1",
   "metadata": {},
   "source": [
    "# Question 8 : How do you &quot;pretty print&quot; dictionary values using which module and function?"
   ]
  },
  {
   "cell_type": "code",
   "execution_count": null,
   "id": "2f8e722b",
   "metadata": {},
   "outputs": [],
   "source": [
    "Answer : I don't understand the question "
   ]
  }
 ],
 "metadata": {
  "kernelspec": {
   "display_name": "Python 3 (ipykernel)",
   "language": "python",
   "name": "python3"
  },
  "language_info": {
   "codemirror_mode": {
    "name": "ipython",
    "version": 3
   },
   "file_extension": ".py",
   "mimetype": "text/x-python",
   "name": "python",
   "nbconvert_exporter": "python",
   "pygments_lexer": "ipython3",
   "version": "3.11.4"
  }
 },
 "nbformat": 4,
 "nbformat_minor": 5
}
