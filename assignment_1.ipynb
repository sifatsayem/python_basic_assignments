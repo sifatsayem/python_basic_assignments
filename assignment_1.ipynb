{
 "cells": [
  {
   "cell_type": "markdown",
   "id": "fdf78696",
   "metadata": {},
   "source": [
    "1. In the below elements which of them are values or an expression? eg:- values can be\n",
    "integer or string and expressions will be mathematical operators.\n",
    "*\n",
    "&#39;hello&#39;\n",
    "-87.8\n",
    "-\n",
    "/\n",
    "+\n",
    "6\n",
    "\n",
    "2. What is the difference between string and variable?\n",
    "\n",
    "3. Describe three different data types.\n",
    "\n",
    "4. What is an expression made up of? What do all expressions do?\n",
    "5. This assignment statements, like spam = 10. What is the difference between an\n",
    "expression and a statement?\n",
    "6. After running the following code, what does the variable bacon contain?\n",
    "bacon = 22\n",
    "bacon + 1\n",
    "\n",
    "7. What should the values of the following two terms be?\n",
    "&#39;spam&#39; + &#39;spamspam&#39;\n",
    "&#39;spam&#39; * 3\n",
    "\n",
    "8. Why is eggs a valid variable name while 100 is invalid?\n",
    "\n",
    "9. What three functions can be used to get the integer, floating-point number, or string\n",
    "version of a value?\n",
    "10. Why does this expression cause an error? How can you fix it?\n",
    "&#39;I have eaten &#39; + 99 + &#39; burritos.&#39;"
   ]
  },
  {
   "cell_type": "code",
   "execution_count": null,
   "id": "394c5398",
   "metadata": {},
   "outputs": [],
   "source": [
    "Question 1 : In the below elements which of them are values or an expression? eg:- values can be\n",
    "integer or string and expressions will be mathematical operators.\n",
    "*\n",
    "hello\n",
    "\n",
    "-87.8\n",
    "-\n",
    "/\n",
    "+\n",
    "6"
   ]
  },
  {
   "cell_type": "code",
   "execution_count": null,
   "id": "5ad2e89a",
   "metadata": {},
   "outputs": [],
   "source": [
    "answer : values are \"hello\", -87.8 , 6 and expressions are * , - , / , + "
   ]
  },
  {
   "cell_type": "markdown",
   "id": "61003bf8",
   "metadata": {},
   "source": [
    "#  Question 2 : What is the difference between string and variable?"
   ]
  },
  {
   "cell_type": "markdown",
   "id": "6ecc0f49",
   "metadata": {},
   "source": [
    "Answer : \n",
    "    string : \n",
    "        1 A string is a data type in Python that represents a sequence of characters.\n",
    "        2 Strings are used to store and manipulate textual data.\n",
    "        \n",
    "        example : name= \"sayem\"\n",
    "            \n",
    "    variable : \n",
    "        1 A variable is a name that refers to a value or an object in Python.\n",
    "        2 It is a way to store and retrieve data in a program.\n",
    "        3 Variables can hold different types of data, including strings, numbers, lists, and more.\n",
    "        4 Variables are created by assigning a value to a name using the assignment operator\n",
    "        \n",
    "        example : age= 45\n"
   ]
  },
  {
   "cell_type": "markdown",
   "id": "461d0a81",
   "metadata": {},
   "source": [
    "# Question 3 : Describe three different data types."
   ]
  },
  {
   "cell_type": "markdown",
   "id": "52f899f7",
   "metadata": {},
   "source": [
    "Answer : \n",
    "    1 int (Integer): Represents whole numbers without any decimal point\n",
    "        \n",
    "       example :  c=12\n",
    "        \n",
    "    2 str (String): Represents a sequence of characters, such as text. Strings are enclosed in single (''), double (\" \")\n",
    "        \n",
    "        example : name= \" syem \"\n",
    "        \n",
    "    3 list: Represents an ordered and mutable sequence of elements. Elements can be of different data types\n",
    "        \n",
    "        example : my_list = [1, 2, 3, 'four', 5.0]\n",
    "\n",
    "    "
   ]
  },
  {
   "cell_type": "markdown",
   "id": "f7d03861",
   "metadata": {},
   "source": [
    "# Question 4 : What is an expression made up of? What do all expressions do?\n",
    "    "
   ]
  },
  {
   "cell_type": "markdown",
   "id": "2331717d",
   "metadata": {},
   "source": [
    "Answer : In Python, an expression is a combination of values, variables, operators, and function calls that are evaluated to produce a result. Expressions represent computations that can be as simple as a single variable or as complex as a combination of various elements."
   ]
  },
  {
   "cell_type": "markdown",
   "id": "231b97fe",
   "metadata": {},
   "source": [
    "# Question 5 : This assignment statements, like spam = 10. What is the difference between an expression and a statement?\n"
   ]
  },
  {
   "cell_type": "markdown",
   "id": "6b3c4fe1",
   "metadata": {},
   "source": [
    "Expression:\n",
    "\n",
    "    1 An expression is a combination of values, variables, operators, and function calls that, when evaluated, produces a result.\n",
    "    2 Expressions can be as simple as a single variable or as complex as a combination of various elements.\n",
    "    3 Examples of expressions include 2 + 3, x * y, and len(\"Hello\").\n",
    "    4 The primary purpose of an expression is to compute a value.\n",
    "    \n",
    "Statement:\n",
    "\n",
    "    1 A statement is a unit of code that performs an action or a command.\n",
    "    2 Assignment statements, like spam = 10, are examples of statements. They assign a value to a variable.\n",
    "    3 Other examples of statements include control flow statements (if, for, while), function and method calls, and import statements.\n",
    "    Unlike expressions, statements do not necessarily produce a value.\n",
    "    "
   ]
  },
  {
   "cell_type": "markdown",
   "id": "a4968fda",
   "metadata": {},
   "source": [
    "# Question 6 : After running the following code, what does the variable bacon contain? bacon = 22 , bacon + 1\n"
   ]
  },
  {
   "cell_type": "markdown",
   "id": "63417498",
   "metadata": {},
   "source": [
    "Answer : The variable bacon is assigned the value 22, but the second line (bacon + 1) is an expression that evaluates to 23. However, this expression is not assigned to any variable, so the value 23 is not stored or used anywhere."
   ]
  },
  {
   "cell_type": "markdown",
   "id": "3572a20b",
   "metadata": {},
   "source": [
    "# Question 7 : What should the values of the following two terms be?\n",
    "spam + spamspam ,\n",
    "spam * 3"
   ]
  },
  {
   "cell_type": "code",
   "execution_count": null,
   "id": "324b4617",
   "metadata": {},
   "outputs": [],
   "source": [
    "Answer : we will not get any value beacuse we don't store the value anywhere . if we store the value than we will get output like this .\n",
    "result_1 = 'spam' + 'spamspam'\n",
    "print(result_1)\n",
    "\n",
    "output : 'spamspamspam'\n",
    "\n",
    "result_2 = 'spam' * 3\n",
    "print(result_2)\n",
    " output : 'spamspamspam'\n",
    "\n",
    "\n"
   ]
  },
  {
   "cell_type": "markdown",
   "id": "7fdc3e5b",
   "metadata": {},
   "source": [
    "# Question 8 : Why is eggs a valid variable name while 100 is invalid?"
   ]
  },
  {
   "cell_type": "markdown",
   "id": "251992fb",
   "metadata": {},
   "source": [
    "Answer : \n",
    "    In Python, variable names must adhere to certain rules:\n",
    "\n",
    "    1 Variable names can only start with a letter (a-z, A-Z) or an underscore (_).\n",
    "    2 The rest of the variable name can include letters, numbers, and underscores.\n",
    "    3 Variable names are case-sensitive."
   ]
  },
  {
   "cell_type": "markdown",
   "id": "f0ffd916",
   "metadata": {},
   "source": [
    "# Question 9 : What three functions can be used to get the integer, floating-point number, or string version of a value?\n"
   ]
  },
  {
   "cell_type": "code",
   "execution_count": null,
   "id": "d4418ae6",
   "metadata": {},
   "outputs": [],
   "source": [
    "Answer : int , float , str "
   ]
  },
  {
   "cell_type": "code",
   "execution_count": null,
   "id": "ffd901f2",
   "metadata": {},
   "outputs": [],
   "source": [
    "Question 10 : Why does this expression cause an error? How can you fix it?\n",
    "I have eaten  + 99 +  burritos."
   ]
  },
  {
   "cell_type": "code",
   "execution_count": null,
   "id": "90828552",
   "metadata": {},
   "outputs": [],
   "source": [
    "Answer : result = 'I have eaten ' + str(99) + ' burritos.'\n",
    "print(result)\n",
    "output : 'I have eaten 99 burritos.'\n"
   ]
  }
 ],
 "metadata": {
  "kernelspec": {
   "display_name": "Python 3 (ipykernel)",
   "language": "python",
   "name": "python3"
  },
  "language_info": {
   "codemirror_mode": {
    "name": "ipython",
    "version": 3
   },
   "file_extension": ".py",
   "mimetype": "text/x-python",
   "name": "python",
   "nbconvert_exporter": "python",
   "pygments_lexer": "ipython3",
   "version": "3.11.4"
  }
 },
 "nbformat": 4,
 "nbformat_minor": 5
}
