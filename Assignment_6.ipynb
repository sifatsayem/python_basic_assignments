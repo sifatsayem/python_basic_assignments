{
 "cells": [
  {
   "cell_type": "markdown",
   "id": "190b39d9",
   "metadata": {},
   "source": [
    "20 May\n",
    "\n",
    "Python Basic - 1\n",
    "\n",
    "Q.1. What are keywords in python? Using the keyword library, print all the python keywords.\n",
    "Q.2. What are the rules to create variables in python?\n",
    "Q.3. What are the standards and conventions followed for the nomenclature of variables in\n",
    "python to improve code readability and maintainability?\n",
    "Q.4. What will happen if a keyword is used as a variable name?\n",
    "Q.5. For what purpose def keyword is used?\n",
    "Q.6. What is the operation of this special character ‘\\’?\n",
    "Q.7. Give an example of the following conditions:\n",
    "(i) Homogeneous list\n",
    "(ii) Heterogeneous set\n",
    "(iii) Homogeneous tuple\n",
    "Q.8. Explain the mutable and immutable data types with proper explanation & examples.\n",
    "Q.9. Write a code to create the given structure using only for loop.\n",
    "*\n",
    "***\n",
    "*****\n",
    "*******\n",
    "*********\n",
    "Q.10. Write a code to create the given structure using while loop.\n",
    "|||||||||\n",
    "|||||||\n",
    "|||||\n",
    "|||\n",
    "|"
   ]
  },
  {
   "cell_type": "markdown",
   "id": "23052ef7",
   "metadata": {},
   "source": [
    "# Question 1 : What are keywords in python? Using the keyword library, print all the python keywords."
   ]
  },
  {
   "cell_type": "code",
   "execution_count": 1,
   "id": "b4b8df19",
   "metadata": {},
   "outputs": [
    {
     "data": {
      "text/plain": [
       "['False',\n",
       " 'None',\n",
       " 'True',\n",
       " 'and',\n",
       " 'as',\n",
       " 'assert',\n",
       " 'async',\n",
       " 'await',\n",
       " 'break',\n",
       " 'class',\n",
       " 'continue',\n",
       " 'def',\n",
       " 'del',\n",
       " 'elif',\n",
       " 'else',\n",
       " 'except',\n",
       " 'finally',\n",
       " 'for',\n",
       " 'from',\n",
       " 'global',\n",
       " 'if',\n",
       " 'import',\n",
       " 'in',\n",
       " 'is',\n",
       " 'lambda',\n",
       " 'nonlocal',\n",
       " 'not',\n",
       " 'or',\n",
       " 'pass',\n",
       " 'raise',\n",
       " 'return',\n",
       " 'try',\n",
       " 'while',\n",
       " 'with',\n",
       " 'yield']"
      ]
     },
     "execution_count": 1,
     "metadata": {},
     "output_type": "execute_result"
    }
   ],
   "source": [
    "import keyword \n",
    "keyword.kwlist"
   ]
  },
  {
   "cell_type": "markdown",
   "id": "467915a5",
   "metadata": {},
   "source": [
    "# Question 2 : What are the rules to create variables in python?"
   ]
  },
  {
   "cell_type": "code",
   "execution_count": null,
   "id": "51a17078",
   "metadata": {},
   "outputs": [],
   "source": [
    "Answer  : \n",
    "1 Variable names must begin with a letter (a-z, A-Z) or an underscore (_).\n",
    "2 After the initial character, variable names can include letters, digits (0-9), and underscores.\n",
    "3 Python is case-sensitive, so myVar and myvar are treated as different variables.\n",
    "4 Do not use Python keywords (reserved words) as variable names, e.g., if, else, for, etc."
   ]
  },
  {
   "cell_type": "markdown",
   "id": "9f04c1f8",
   "metadata": {},
   "source": [
    "# Question 3 : What are the standards and conventions followed for the nomenclature of variables in python to improve code readability and maintainability?\n"
   ]
  },
  {
   "cell_type": "markdown",
   "id": "598efab0",
   "metadata": {},
   "source": [
    "Answer : \n",
    "1 Variable names should be in lowercase with words separated by underscores (snake_case).\n",
    "2 Choose names that are both descriptive and concise to improve code readability.\n",
    "3 Use meaningful names instead of single characters, except in cases like loop counters (e.g., i, j) or other conventional uses.\n",
    "4 Maintain consistency in naming conventions throughout the project for a unified coding style"
   ]
  },
  {
   "cell_type": "markdown",
   "id": "341bbc34",
   "metadata": {},
   "source": [
    "# Question 4 : What will happen if a keyword is used as a variable name?"
   ]
  },
  {
   "cell_type": "markdown",
   "id": "8e721de0",
   "metadata": {},
   "source": [
    "Answer : \n",
    "If a keyword is used as a variable name in Python, it will result in a SyntaxError. Keywords are reserved for specific purposes in the language, and attempting to use them as variable names violates the syntax rules. It's important to choose variable names that do not conflict with Python keywords to avoid such errors and maintain code correctness."
   ]
  },
  {
   "cell_type": "markdown",
   "id": "4a58ca49",
   "metadata": {},
   "source": [
    "# Question 5 : For what purpose def keyword is used?"
   ]
  },
  {
   "cell_type": "markdown",
   "id": "d751ff95",
   "metadata": {},
   "source": [
    "Answer : \n",
    "The def keyword in Python is used to define a function. It marks the beginning of a function definition, and it is followed by the function name and a set of parentheses containing parameters. The function body, which consists of statements to be executed when the function is called, is indented below the def statement"
   ]
  },
  {
   "cell_type": "markdown",
   "id": "bae92327",
   "metadata": {},
   "source": [
    "# Question 6 : What is the operation of this special character ‘\\’?"
   ]
  },
  {
   "cell_type": "markdown",
   "id": "047e8b1a",
   "metadata": {},
   "source": [
    "Answer : \n",
    "The backslash character ('') serves as an escape character in many programming languages and computing environments. Its primary purpose is to indicate that the character following it has a special meaning. This is known as an escape sequence.\n",
    "\n",
    "Some common escape sequences include:\n",
    "1 \\n: Represents a newline character.\n",
    "2 \\t: Represents a tab character.\n",
    "3 \\: Represents a literal backslash character."
   ]
  },
  {
   "cell_type": "code",
   "execution_count": null,
   "id": "5c6ad658",
   "metadata": {},
   "outputs": [],
   "source": [
    "# Question 7 :  Give an example of the following conditions:\n",
    "(i) Homogeneous list\n",
    "(ii) Heterogeneous set\n",
    "(iii) Homogeneous"
   ]
  },
  {
   "cell_type": "code",
   "execution_count": null,
   "id": "653f3aac",
   "metadata": {},
   "outputs": [],
   "source": [
    "Answer :\n",
    " Homogeneous List:\n",
    "A homogeneous list with elements of the same data type. Here's an example with integers:\n",
    "homogeneous_list = [1, 2, 3, 4, 5]\n",
    "\n",
    " Heterogeneous Set:\n",
    "A heterogeneous set with elements of different data types. Note that sets typically contain only unique elements.\n",
    "heterogeneous_set = {1, \"two\", 3.0, True}\n",
    "\n",
    " Homogeneous Tuple:\n",
    "A homogeneous tuple with elements of the same data type. Tuples are similar to lists but are immutable.\n",
    "homogeneous_tuple = (10, 20, 30, 40, 50)\n",
    "\n",
    "\n",
    "\n"
   ]
  },
  {
   "cell_type": "markdown",
   "id": "058ad8fd",
   "metadata": {},
   "source": [
    "# Question 8 : Explain the mutable and immutable data types with proper explanation & examples."
   ]
  },
  {
   "cell_type": "markdown",
   "id": "4a969f90",
   "metadata": {},
   "source": [
    "Answer : \n",
    "Mutable Data Types:\n",
    "\n",
    "Mutable data types are those whose values can be changed or modified after the object is created. This means that we can alter the content of a mutable object without changing its identity. Some common mutable data types in Python include lists, dictionaries, and sets.\n",
    "\n",
    "mutable_list = [1, 2, 3, 4, 5]\n",
    "mutable_list[2] = 10\n",
    "print(mutable_list)  # Output: [1, 2, 10, 4, 5]\n",
    "\n",
    "Immutable Data Types:\n",
    "\n",
    "Immutable data types, on the other hand, are those whose values cannot be changed or modified after the object is created. Any operation that appears to modify the value actually creates a new object. Some common immutable data types in Python include integers, floats, strings, and tuples.\n",
    "\n",
    "immutable_tuple = (1, 2, 3, 4, 5)\n",
    " Attempting to modify a tuple will result in an error\n",
    " immutable_tuple[2] = 10  # This will raise a TypeError\n"
   ]
  },
  {
   "cell_type": "code",
   "execution_count": null,
   "id": "3729d12e",
   "metadata": {},
   "outputs": [],
   "source": [
    "# Question 9 : Write a code to create the given structure using only for loop.\n",
    "*\n",
    "***\n",
    "*****\n",
    "*******\n",
    "*********"
   ]
  },
  {
   "cell_type": "code",
   "execution_count": 6,
   "id": "b9103da7",
   "metadata": {},
   "outputs": [
    {
     "name": "stdout",
     "output_type": "stream",
     "text": [
      "*\n",
      "***\n",
      "*****\n",
      "*******\n",
      "*********\n"
     ]
    }
   ],
   "source": [
    "\n",
    "num_rows = 5\n",
    "\n",
    "\n",
    "for i in range(num_rows):\n",
    "    \n",
    "    for j in range(2*i + 1):\n",
    "        print('*', end='')\n",
    "    print() \n",
    "\n",
    "\n",
    "    \n",
    "        \n",
    "        "
   ]
  },
  {
   "cell_type": "code",
   "execution_count": null,
   "id": "da023979",
   "metadata": {},
   "outputs": [],
   "source": [
    "Question 10 : \n",
    " Write a code to create the given structure using while loop.\n",
    "|||||||||\n",
    "|||||||\n",
    "|||||\n",
    "|||\n",
    "|"
   ]
  },
  {
   "cell_type": "code",
   "execution_count": 1,
   "id": "d35bc4f8",
   "metadata": {},
   "outputs": [
    {
     "name": "stdout",
     "output_type": "stream",
     "text": [
      "|||||||||\n",
      "|||||||\n",
      "|||||\n",
      "|||\n",
      "|\n"
     ]
    }
   ],
   "source": [
    "row = 5 \n",
    "while row >= 1:\n",
    "    print(\"|\" * (row * 2 - 1))\n",
    "    row -= 1\n"
   ]
  },
  {
   "cell_type": "code",
   "execution_count": null,
   "id": "254a1165",
   "metadata": {},
   "outputs": [],
   "source": []
  }
 ],
 "metadata": {
  "kernelspec": {
   "display_name": "Python 3 (ipykernel)",
   "language": "python",
   "name": "python3"
  },
  "language_info": {
   "codemirror_mode": {
    "name": "ipython",
    "version": 3
   },
   "file_extension": ".py",
   "mimetype": "text/x-python",
   "name": "python",
   "nbconvert_exporter": "python",
   "pygments_lexer": "ipython3",
   "version": "3.11.4"
  }
 },
 "nbformat": 4,
 "nbformat_minor": 5
}
