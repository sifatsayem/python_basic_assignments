{
 "cells": [
  {
   "cell_type": "markdown",
   "id": "9a6c84e4",
   "metadata": {},
   "source": [
    "1. In Python, what is the difference between a built-in function and a user-defined function? Provide an\n",
    "example of each.\n",
    "2. How can you pass arguments to a function in Python? Explain the difference between positional\n",
    "arguments and keyword arguments.\n",
    "3. What is the purpose of the return statement in a function? Can a function have multiple return\n",
    "statements? Explain with an example.\n",
    "4. What are lambda functions in Python? How are they different from regular functions? Provide an\n",
    "example where a lambda function can be useful.\n",
    "5. How does the concept of \"scope\" apply to functions in Python? Explain the difference between local\n",
    "scope and global scope.\n",
    "6. How can you use the \"return\" statement in a Python function to return multiple values?\n",
    "7. What is the difference between the \"pass by value\" and \"pass by reference\" concepts when it\n",
    "comes to function arguments in Python?\n",
    "8. Create a function that can intake integer or decimal value and do following operations:\n",
    "a. Logarithmic function (log x)\n",
    "b. Exponential function (exp(x))\n",
    "c. Power function with base 2 (2\n",
    "x\n",
    ")\n",
    "\n",
    "d. Square root\n",
    "9. Create a function that takes a full name as an argument and returns first name and last name."
   ]
  },
  {
   "cell_type": "markdown",
   "id": "506b88b0",
   "metadata": {},
   "source": [
    " # Question 1 : In Python, what is the difference between a built-in function and a user-defined function? Provide an example of each\n",
    "\n"
   ]
  },
  {
   "cell_type": "markdown",
   "id": "afabd71c",
   "metadata": {},
   "source": [
    "Answer : \n",
    "Built-in Function:\n",
    "\n",
    "    A built-in function is a function that is provided by the Python programming language as part of its standard library.\n",
    "    These functions are ready-made and built into the Python interpreter, so we can use them without defining them by our self.\n",
    "    \n",
    "    Examples of built-in functions include print(), len(), etc\n",
    "    \n",
    "User-Defined Function:\n",
    "\n",
    "    A user-defined function is a function created by the user or programmer to perform a specific task.\n",
    "    These functions are defined using the def keyword followed by a function name, parameters, and a block of code.\n",
    "    User-defined functions provide modularity and allow us to organize our code into reusable blocks."
   ]
  },
  {
   "cell_type": "markdown",
   "id": "b80841f9",
   "metadata": {},
   "source": [
    "# Question 2 : How can you pass arguments to a function in Python? Explain the difference between positional arguments and keyword arguments.\n"
   ]
  },
  {
   "cell_type": "markdown",
   "id": "a5dd834d",
   "metadata": {},
   "source": [
    "Answer :\n",
    "In Python, we can pass arguments to a function in two main ways: positional arguments and keyword arguments.\n",
    "\n",
    "Positional Arguments:\n",
    "\n",
    "Positional arguments are the most straightforward way to pass arguments to a function. The values are assigned to parameters in the order they appear in the function's definition. The position of the argument determines which parameter receives which value.\n",
    "\n",
    "def add(a, b):\n",
    "    return a + b\n",
    "\n",
    "result = add(3, 5)\n",
    "print(result)  # Output: 8\n",
    "\n",
    "Keyword Arguments:\n",
    "\n",
    "Keyword arguments are passed to a function by explicitly mentioning the parameter names along with their values. This way, the order of the arguments doesn't matter, and we can selectively pass values to specific parameters.\n",
    "\n",
    "def greet(name, age):\n",
    "    return f\"Hello, {name}! You are {age} years old.\"\n",
    "\n",
    "result = greet(name=\"Alice\", age=25)\n",
    "print(result)\n"
   ]
  },
  {
   "cell_type": "markdown",
   "id": "17d486ff",
   "metadata": {},
   "source": [
    "# Question 3 : What is the purpose of the return statement in a function? Can a function have multiple return statements? Explain with an example.\n"
   ]
  },
  {
   "cell_type": "markdown",
   "id": "12f251e9",
   "metadata": {},
   "source": [
    "Answer : \n",
    "The return statement in a function serves the purpose of specifying the value that a function should return to the caller. When a return statement is encountered, the function stops executing, and the specified value is sent back to the calling code.\n",
    "\n",
    "A function can have multiple return statements, but only one of them will be executed. Once a return statement is executed, the function exits, and no further code within the function is processed.\n",
    "\n",
    "def compare_numbers(a, b):\n",
    "    if a > b:\n",
    "        return f\"{a} is greater than {b}\"\n",
    "    elif a < b:\n",
    "        return f\"{a} is less than {b}\"\n",
    "    else:\n",
    "        return f\"{a} is equal to {b}\"\n",
    "\n",
    " Example usage:\n",
    "result1 = compare_numbers(5, 3)\n",
    "result2 = compare_numbers(8, 12)\n",
    "result3 = compare_numbers(7, 7)\n",
    "\n",
    "print(result1)  # Output: \"5 is greater than 3\"\n",
    "print(result2)  # Output: \"8 is less than 12\"\n",
    "print(result3)  # Output: \"7 is equal to 7\"\n"
   ]
  },
  {
   "cell_type": "markdown",
   "id": "e3fd6c2d",
   "metadata": {},
   "source": [
    "# Question 4 : What are lambda functions in Python? How are they different from regular functions? Provide an example where a lambda function can be useful.\n"
   ]
  },
  {
   "cell_type": "markdown",
   "id": "3060de8e",
   "metadata": {},
   "source": [
    "Answer : \n",
    "\n",
    "Lambda functions in Python are anonymous functions defined using the lambda keyword. Unlike regular functions, which are defined using the def keyword and have a name, lambda functions are often used for short-term operations where a full function definition is not necessary.\n",
    "\n",
    "Regular function:\n",
    "\n",
    "def add(x, y):\n",
    "    return x + y\n",
    "\n",
    "result = add(3, 5)\n",
    "print(result)  # Output: 8\n",
    "\n",
    " lambda function:\n",
    " \n",
    " add_lambda = lambda x, y: x + y\n",
    "result_lambda = add_lambda(3, 5)\n",
    "print(result_lambda)  # Output: 8\n",
    "\n",
    "\n"
   ]
  },
  {
   "cell_type": "markdown",
   "id": "5477eac7",
   "metadata": {},
   "source": [
    "# Question 5 : How does the concept of \"scope\" apply to functions in Python? Explain the difference between local scope and global scope.\n"
   ]
  },
  {
   "cell_type": "markdown",
   "id": "20cfe139",
   "metadata": {},
   "source": [
    "Answer : \n",
    "In Python, the concept of \"scope\" refers to the region of the program where a variable is recognized and can be accessed. It defines the context in which names (variables) can be used. The two main types of scope in Python are local scope and global scope.\n",
    "\n",
    "Local Scope:\n",
    "\n",
    "  1 Variables defined within a function have local scope.\n",
    "  2 They are only accessible within that function.\n",
    "  3 Once the function completes execution, the local variables are destroyed, and their scope ends.\n",
    "  \n",
    "Global Scope:\n",
    "\n",
    "   1 Variables defined outside of any function or in the global scope have global scope.\n",
    "   2 They can be accessed from anywhere in the code, including within functions.\n",
    "   3 If a variable is modified inside a function without the use of the global keyword, a new local variable with the same      name is created within the function's local scope, and it doesn't affect the global variable.\n",
    "\n"
   ]
  },
  {
   "cell_type": "markdown",
   "id": "18fdedd3",
   "metadata": {},
   "source": [
    "# Question 6 : How can you use the \"return\" statement in a Python function to return multiple values?"
   ]
  },
  {
   "cell_type": "markdown",
   "id": "420e4914",
   "metadata": {},
   "source": [
    "Answer : \n",
    "In Python, a function can return multiple values by packing them into a data structure like a tuple, list, or dictionary, and then returning that data structure. When the function is called, the caller can then unpack the returned values. The return statement is used to send the values back to the caller.\n",
    "\n",
    "Here's an example using a tuple to return multiple values:\n",
    "\n",
    "def multiple_values():\n",
    "    a = 10\n",
    "    b = 20\n",
    "    c = 30\n",
    "    return a, b, c  # Using a tuple to return multiple values\n",
    "\n",
    "#Calling the function and unpacking the returned values\n",
    "\n",
    "result1, result2, result3 = multiple_values()\n",
    "\n",
    "print(result1)  # Output: 10\n",
    "print(result2)  # Output: 20\n",
    "print(result3)  # Output: 30\n"
   ]
  },
  {
   "cell_type": "markdown",
   "id": "8425af81",
   "metadata": {},
   "source": [
    "# Question 7 : What is the difference between the \"pass by value\" and \"pass by reference\" concepts when it comes to function arguments in Python?\n"
   ]
  },
  {
   "cell_type": "markdown",
   "id": "15f526b1",
   "metadata": {},
   "source": [
    "Answer : \n",
    "In Python, the terms \"pass by value\" and \"pass by reference\" are often used in discussions about how arguments are passed to functions. However, it's important to note that the terminology can be a bit misleading in the context of Python because the actual behavior depends on the type of the object being passed.\n",
    "\n",
    "Pass by Value:\n",
    "\n",
    "1 In a strict sense, Python is neither strictly \"pass by value\" nor \"pass by reference.\" However, when we talk about \"pass    by value\" in Python, it means that a copy of the object's value is passed to the function.\n",
    "2 Immutable objects (like integers, floats, strings, and tuples) are passed by value. When you pass an immutable object to    a function, changes made to the parameter within the function do not affect the original object outside the function\n",
    "\n",
    "Pass by Reference (or Object Reference):\n",
    "\n",
    "When we talk about \"pass by reference\" in Python, we mean that a reference to the object is passed to the function. Mutable objects (like lists and dictionaries) are passed by reference. Changes made to the parameter within the function affect the original object outside the function.\n"
   ]
  },
  {
   "cell_type": "code",
   "execution_count": null,
   "id": "10515923",
   "metadata": {},
   "outputs": [],
   "source": [
    "Question 8 : Create a function that can intake integer or decimal value and do following operations:\n",
    "a. Logarithmic function (log x)\n",
    "b. Exponential function (exp(x))\n",
    "c. Power function with base 2 (2\n",
    "x\n",
    ")\n",
    "\n",
    "d. Square root"
   ]
  },
  {
   "cell_type": "code",
   "execution_count": 1,
   "id": "dfebf7e5",
   "metadata": {},
   "outputs": [
    {
     "name": "stdout",
     "output_type": "stream",
     "text": [
      "Enter an integer or decimal value: 8\n",
      "Logarithmic function (log x): 2.0794415416798357\n",
      "Exponential function (exp(x)): 2980.9579870417283\n",
      "Power function with base 2 (2^x): 256.0\n",
      "Square root: 2.8284271247461903\n"
     ]
    }
   ],
   "source": [
    "import math\n",
    "\n",
    "def math_operations(x):\n",
    "   \n",
    "    result = {\n",
    "        'logarithmic': math.log(x),\n",
    "        'exponential': math.exp(x),\n",
    "        'power_of_2': 2**x,\n",
    "        'square_root': math.sqrt(x)\n",
    "    }\n",
    "    return result\n",
    "\n",
    "\n",
    "input_value = float(input(\"Enter an integer or decimal value: \"))\n",
    "result_dict = math_operations(input_value)\n",
    "\n",
    "\n",
    "print(f\"Logarithmic function (log x): {result_dict['logarithmic']}\")\n",
    "print(f\"Exponential function (exp(x)): {result_dict['exponential']}\")\n",
    "print(f\"Power function with base 2 (2^x): {result_dict['power_of_2']}\")\n",
    "print(f\"Square root: {result_dict['square_root']}\")\n"
   ]
  },
  {
   "cell_type": "markdown",
   "id": "85fd15ac",
   "metadata": {},
   "source": [
    "# Question 9 : Create a function that takes a full name as an argument and returns first name and last name."
   ]
  },
  {
   "cell_type": "code",
   "execution_count": 3,
   "id": "75fb3540",
   "metadata": {},
   "outputs": [
    {
     "name": "stdout",
     "output_type": "stream",
     "text": [
      "Enter a full name: hasim khan joshim\n",
      "First Name: hasim\n",
      "Last Name: joshim\n"
     ]
    }
   ],
   "source": [
    "def extract_first_last_name(full_name):\n",
    "   \n",
    "   \n",
    "    name_parts = full_name.split()\n",
    "\n",
    "\n",
    "    first_name = name_parts[0]\n",
    "\n",
    "  \n",
    "    last_name = name_parts[-1] if len(name_parts) > 1 else \"\"\n",
    " \n",
    "\n",
    "    return first_name, last_name\n",
    "\n",
    "\n",
    "full_name = input(\"Enter a full name: \")\n",
    "first_name, last_name = extract_first_last_name(full_name)\n",
    "\n",
    "\n",
    "print(\"First Name:\", first_name)\n",
    "print(\"Last Name:\", last_name)\n"
   ]
  },
  {
   "cell_type": "code",
   "execution_count": null,
   "id": "84899fca",
   "metadata": {},
   "outputs": [],
   "source": []
  }
 ],
 "metadata": {
  "kernelspec": {
   "display_name": "Python 3 (ipykernel)",
   "language": "python",
   "name": "python3"
  },
  "language_info": {
   "codemirror_mode": {
    "name": "ipython",
    "version": 3
   },
   "file_extension": ".py",
   "mimetype": "text/x-python",
   "name": "python",
   "nbconvert_exporter": "python",
   "pygments_lexer": "ipython3",
   "version": "3.11.4"
  }
 },
 "nbformat": 4,
 "nbformat_minor": 5
}
